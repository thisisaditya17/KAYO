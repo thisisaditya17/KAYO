{
 "cells": [
  {
   "cell_type": "code",
   "execution_count": 1,
   "metadata": {},
   "outputs": [
    {
     "name": "stderr",
     "output_type": "stream",
     "text": [
      "/Users/crazygynkz/Desktop/KAYO/.venv/lib/python3.9/site-packages/urllib3/__init__.py:35: NotOpenSSLWarning: urllib3 v2 only supports OpenSSL 1.1.1+, currently the 'ssl' module is compiled with 'LibreSSL 2.8.3'. See: https://github.com/urllib3/urllib3/issues/3020\n",
      "  warnings.warn(\n",
      "Ignoring wrong pointing object 6 0 (offset 0)\n",
      "Ignoring wrong pointing object 8 0 (offset 0)\n",
      "Ignoring wrong pointing object 10 0 (offset 0)\n",
      "Ignoring wrong pointing object 12 0 (offset 0)\n",
      "Ignoring wrong pointing object 18 0 (offset 0)\n",
      "Ignoring wrong pointing object 26 0 (offset 0)\n",
      "Ignoring wrong pointing object 31 0 (offset 0)\n",
      "Ignoring wrong pointing object 39 0 (offset 0)\n",
      "Ignoring wrong pointing object 41 0 (offset 0)\n",
      "Ignoring wrong pointing object 43 0 (offset 0)\n"
     ]
    }
   ],
   "source": [
    "from langchain.document_loaders import PyPDFLoader\n",
    "\n",
    "loader = PyPDFLoader(\"Research essay A0284714Y.pdf\")\n",
    "\n",
    "documents = loader.load()\n"
   ]
  },
  {
   "cell_type": "code",
   "execution_count": 2,
   "metadata": {},
   "outputs": [
    {
     "name": "stdout",
     "output_type": "stream",
     "text": [
      "33\n"
     ]
    }
   ],
   "source": [
    "from langchain.text_splitter import RecursiveCharacterTextSplitter\n",
    "\n",
    "textSplitting = RecursiveCharacterTextSplitter(\n",
    "    chunk_size = 600, chunk_overlap = 0, \n",
    "    length_function = len, is_separator_regex = False\n",
    ")\n",
    "\n",
    "chunks = textSplitting.split_documents(documents)\n",
    "\n",
    "print(len(chunks))"
   ]
  },
  {
   "cell_type": "code",
   "execution_count": 3,
   "metadata": {},
   "outputs": [
    {
     "name": "stderr",
     "output_type": "stream",
     "text": [
      "/Users/crazygynkz/Desktop/KAYO/.venv/lib/python3.9/site-packages/sentence_transformers/cross_encoder/CrossEncoder.py:11: TqdmWarning: IProgress not found. Please update jupyter and ipywidgets. See https://ipywidgets.readthedocs.io/en/stable/user_install.html\n",
      "  from tqdm.autonotebook import tqdm, trange\n",
      "/Users/crazygynkz/Desktop/KAYO/.venv/lib/python3.9/site-packages/huggingface_hub/file_download.py:1132: FutureWarning: `resume_download` is deprecated and will be removed in version 1.0.0. Downloads always resume when possible. If you want to force a new download, use `force_download=True`.\n",
      "  warnings.warn(\n",
      "Batches: 100%|██████████| 2/2 [00:04<00:00,  2.10s/it]"
     ]
    },
    {
     "name": "stdout",
     "output_type": "stream",
     "text": [
      "[[ 0.00761158  0.03599565 -0.03254024 ...  0.07229744 -0.03705115\n",
      "  -0.00895973]\n",
      " [ 0.01605107 -0.04350835 -0.02358476 ...  0.00184933 -0.05110533\n",
      "  -0.01226669]\n",
      " [ 0.02385614  0.03040851 -0.0315797  ... -0.02918818 -0.03505195\n",
      "   0.03309226]\n",
      " ...\n",
      " [-0.04611548 -0.02328918  0.01801944 ... -0.01524004 -0.09549437\n",
      "   0.10284238]\n",
      " [ 0.00610571 -0.00023818 -0.01129274 ...  0.00765599 -0.09609738\n",
      "   0.07402455]\n",
      " [ 0.00658685  0.01320795 -0.02266516 ... -0.0151975  -0.03260812\n",
      "   0.03156128]]\n"
     ]
    },
    {
     "name": "stderr",
     "output_type": "stream",
     "text": [
      "\n"
     ]
    }
   ],
   "source": [
    "from sentence_transformers import SentenceTransformer\n",
    "import numpy\n",
    "\n",
    "\n",
    "embedding_model = SentenceTransformer('sentence-transformers/all-MiniLM-L6-v2')\n",
    "\n",
    "chunk_texts = [chunk.page_content for chunk in chunks]\n",
    "\n",
    "embeddings = embedding_model.encode(chunk_texts, show_progress_bar=True)\n",
    "\n",
    "print(embeddings)\n",
    "\n",
    "embeddings_np = numpy.array(embeddings).astype('float32') #fass takes in \n",
    "\n"
   ]
  },
  {
   "cell_type": "code",
   "execution_count": 4,
   "metadata": {},
   "outputs": [
    {
     "name": "stderr",
     "output_type": "stream",
     "text": [
      "Batches: 100%|██████████| 1/1 [00:00<00:00,  2.40it/s]"
     ]
    },
    {
     "name": "stdout",
     "output_type": "stream",
     "text": [
      "Distance:  [[0.620383   0.64027786 0.65519524 0.70657516 0.7070992 ]]\n",
      "Indices:  [[25 21  3 15  5]]\n",
      "Similarity scores:  [0.6171380377698183, 0.6096528050717577, 0.6041583362045819, 0.5859689196334956, 0.5857890393323103]\n"
     ]
    },
    {
     "name": "stderr",
     "output_type": "stream",
     "text": [
      "\n"
     ]
    }
   ],
   "source": [
    "import faiss #facebook ai similarity search \n",
    "\n",
    "query = \"tourism in india\"\n",
    "\n",
    "query_embedding = embedding_model.encode(query, show_progress_bar=True)\n",
    "\n",
    "query_embedding_np = numpy.array([query_embedding]).astype('float32')\n",
    "\n",
    "nearest_neighbours = 5\n",
    "\n",
    "dimension = embeddings_np.shape[1]\n",
    "\n",
    "index = faiss.IndexFlatL2(dimension)\n",
    " \n",
    "index.add(embeddings_np)\n",
    "\n",
    "distance, indices = index.search(query_embedding_np, nearest_neighbours)\n",
    "\n",
    "#The lower the distance, the more similar the chunk is to your query.\n",
    "#hese are the positions of the most similar chunks within your original chunks list\n",
    "\n",
    "print(\"Distance: \", distance)\n",
    "\n",
    "\n",
    "print(\"Indices: \", indices)\n",
    "\n",
    "similarity_scores = [ 1 / (1 + dist) for dist in distance[0] ]\n",
    "\n",
    "print(\"Similarity scores: \", similarity_scores)\n"
   ]
  },
  {
   "cell_type": "code",
   "execution_count": 5,
   "metadata": {},
   "outputs": [
    {
     "name": "stdout",
     "output_type": "stream",
     "text": [
      "Rank 1: Tourism has played a pivotal role in strengthening the multifaceted relationship between India and Singapore. The thriving tourism industry has fostered political, economic, and cultural ties between the two nations. Through increased people-to-people exchanges, tourism has built trust, understanding, and goodwill, positively influencing diplomatic relations. Economically, the tourism sector generates substantial revenue, employment, and business opportunities, reinforcing the interdependence between the two countries. Culturally, tourism has served as a medium for showcasing and preserving with similarity 0.6171380377698183\n",
      "Rank 2: helping to preserve and celebrate invaluable cultural heritage, further strengthening the ties between Singapore and India.  Addressing Challenges, Opportunities, Future Prospects and Recommendations:   While promoting tourism between Singapore and India holds immense potential, it is crucial to address the challenges and capitalise on opportunities for mutual benefit.   Indian tourists face several challenges when visiting Singapore, including budget constraints due to the high cost of living, limited room availability, high hotel rates, and a shortage of manpower, impacting service quality with similarity 0.6096528050717577\n",
      "Rank 3: splendour, has drawn a substantial number of Singaporean visitors each year.   Tourism promotes economic prosperity and people-to-people contacts, facilitating better understanding and cooperation between governments and businesses. It enables the exchange of cultural heritage, ideas, knowledge, practices, traditions, and values, fostering mutual respect and appreciation, promoting cross-cultural understanding further deepening bilateral ties.   This essay seeks to explore the contribution of Tourism in enhancing the ties between Singapore and India. Particularly, diving into the trends and with similarity 0.6041583362045819\n",
      "Rank 4: my visit unveiled Singapore's rich history of Tamilian migration and its vibrant multicultural society. This experience broadened my understanding and sparked a desire to share it with others. As I shared my insights, my family's curiosity was piqued, leading them to plan their visits. This highlights tourism's role in dispelling stereotypes, fostering cultural appreciation, and stimulating curiosity about diverse destinations like Singapore.   Enhancing Economic Ties through Tourism:   Tourism promotion has significant economic implications for both India and Singapore. The tourism sector with similarity 0.5859689196334956\n",
      "Rank 5: years, both countries have experienced a surge in visitor arrivals, underscoring the importance of tourism as a key driver of bilateral cooperation and economic growth.       In 2023, Singapore saw a substantial 115% increase in overall visitor numbers, reaching 13.6 million from 6.3 million in 2022 (TravelBizMonitor, 2024). Singapore received 1.1 million Indian tourists in 2023, with India becoming its 5th tourism-generating market and expecting over 1.5 million Indian tourists in 2024. India's inbound tourism sector has witnessed remarkable growth, with foreign tourist arrivals (FTAs) with similarity 0.5857890393323103\n"
     ]
    }
   ],
   "source": [
    "#Retrieving the chunks using distance and indices\n",
    "\n",
    "for i in range(len(indices)) :\n",
    "    for rank in range(nearest_neighbours):\n",
    "        chunk_index = indices[i][rank]\n",
    "        similarity = similarity_scores[rank]\n",
    "        chunk_text = chunks[chunk_index]\n",
    "        print(f\"Rank {rank+1}: {chunk_text.page_content} with similarity {similarity}\")\n",
    "        "
   ]
  },
  {
   "cell_type": "code",
   "execution_count": 6,
   "metadata": {},
   "outputs": [
    {
     "name": "stdout",
     "output_type": "stream",
     "text": [
      "That's a question that has philosophers, scientists, and theologians pondering for centuries! There's no single, universally accepted answer, but here are some perspectives:\n",
      "\n",
      "**Scientifically:**\n",
      "\n",
      "* **Biology:** Life is defined as a self-sustaining system capable of growth, reproduction, adaptation, metabolism (converting energy), and response to stimuli.  This definition focuses on the processes and characteristics that distinguish living things from non-living matter.\n",
      "* **Chemistry:** Life arises from complex interactions of organic molecules like proteins, nucleic acids, carbohydrates, and lipids. Understanding the chemical basis of life is crucial for fields like medicine and genetics.\n",
      "\n",
      "**Philosophically:**\n",
      "\n",
      "* **Meaning & Purpose:** Many philosophical inquiries revolve around the meaning and purpose of life, often exploring questions of consciousness, morality, and existence. \n",
      "* **Experience & Subjectivity:**  Some philosophers emphasize the subjective experience of being alive, focusing on concepts like consciousness, qualia (the subjective experience of sensory input), and free will.\n",
      "\n",
      "**Spiritually & Religiously:**\n",
      "\n",
      "* **Soul & Afterlife:**  Many religions define life as the presence of a soul or spirit that exists beyond the physical body, often with beliefs about an afterlife.\n",
      "* **Connection to a Higher Power:** Some spiritual traditions view life as a sacred gift, interconnected with a divine force or universal consciousness.\n",
      "\n",
      "**Ultimately, the meaning of life is often a personal journey.** What matters most is what you find meaningful and how you choose to live your life. \n",
      "\n",
      "Instead of seeking a single answer, you might find it more fulfilling to explore these different perspectives and discover what resonates with you. What do you value? What brings you joy and purpose? These questions can guide you towards your own understanding of life's meaning. \n",
      "\n"
     ]
    }
   ],
   "source": [
    "#LLM \n",
    "import os\n",
    "import google.generativeai as genai\n",
    "\n",
    "api_key = os.getenv(\"GENAI_API_KEY\")\n",
    "if not api_key:\n",
    "    raise ValueError(\"API key not found in environment variables.\")\n",
    "\n",
    "genai.configure(api_key=api_key)\n",
    "\n",
    "llm = genai.GenerativeModel('gemini-1.5-pro')\n",
    "\n",
    "response = llm.generate_content(\"What is life\")\n",
    "\n",
    "print(response.text)"
   ]
  },
  {
   "cell_type": "code",
   "execution_count": 19,
   "metadata": {},
   "outputs": [
    {
     "name": "stdout",
     "output_type": "stream",
     "text": [
      "response:\n",
      "GenerateContentResponse(\n",
      "    done=True,\n",
      "    iterator=None,\n",
      "    result=glm.GenerateContentResponse({\n",
      "      \"candidates\": [\n",
      "        {\n",
      "          \"content\": {\n",
      "            \"parts\": [\n",
      "              {\n",
      "                \"text\": \"The provided text focuses primarily on the role of tourism in deepening the bilateral relationship between Singapore and India. While it doesn't directly delve into the specifics of tourism in India, it does mention several key aspects related to India's tourism sector:\\n\\n* **India's \\\"Incredible India\\\" campaign (2002):** This campaign was launched to raise global awareness of India's diverse tourism offerings. It contributed to the growth of India's tourism industry.\\n* **India's inbound tourism growth:** The text highlights the remarkable growth in foreign tourist arrivals (FTAs) to India in 2023, with a 64% increase compared to the previous year.\\n* **India as a key tourism destination for Singaporeans:**  The text mentions that India, with its rich heritage, vibrant culture, and natural splendor, draws a significant number of Singaporean visitors each year.\\n* **Economic impact of tourism in India:** The text notes that tourism generates substantial revenue, employment, and business opportunities in India, contributing to economic growth and prosperity.\\n\\nOverall, the text indicates that tourism plays a vital role in India's economic development and acts as a key driver of bilateral cooperation with Singapore. However, the provided text is primarily focused on the Singapore-India relationship and doesn't offer a detailed analysis of the specific trends, challenges, or strategies within the Indian tourism sector. \\n\"\n",
      "              }\n",
      "            ],\n",
      "            \"role\": \"model\"\n",
      "          },\n",
      "          \"finish_reason\": 1,\n",
      "          \"index\": 0,\n",
      "          \"safety_ratings\": [\n",
      "            {\n",
      "              \"category\": 9,\n",
      "              \"probability\": 1,\n",
      "              \"blocked\": false\n",
      "            },\n",
      "            {\n",
      "              \"category\": 8,\n",
      "              \"probability\": 1,\n",
      "              \"blocked\": false\n",
      "            },\n",
      "            {\n",
      "              \"category\": 7,\n",
      "              \"probability\": 1,\n",
      "              \"blocked\": false\n",
      "            },\n",
      "            {\n",
      "              \"category\": 10,\n",
      "              \"probability\": 1,\n",
      "              \"blocked\": false\n",
      "            }\n",
      "          ],\n",
      "          \"token_count\": 0,\n",
      "          \"grounding_attributions\": []\n",
      "        }\n",
      "      ]\n",
      "    }),\n",
      ")\n"
     ]
    }
   ],
   "source": [
    "prompt = \" Please answer the following question in context of the provided text:\\n\"\n",
    "prompt += \"Question: \" + query + \"\\n\"\n",
    "for i in range(len(indices)) :\n",
    "    for rank in range(nearest_neighbours):\n",
    "        chunk_index = indices[i][rank]\n",
    "        similarity = similarity_scores[rank]\n",
    "        chunk_text = chunks[chunk_index]\n",
    "        prompt += \"Context: \" + chunk_text.page_content + \"\\n\"\n",
    "        \n",
    "response = llm.generate_content(prompt)\n",
    "\n",
    "print(response)"
   ]
  }
 ],
 "metadata": {
  "kernelspec": {
   "display_name": ".venv",
   "language": "python",
   "name": "python3"
  },
  "language_info": {
   "codemirror_mode": {
    "name": "ipython",
    "version": 3
   },
   "file_extension": ".py",
   "mimetype": "text/x-python",
   "name": "python",
   "nbconvert_exporter": "python",
   "pygments_lexer": "ipython3",
   "version": "3.9.6"
  }
 },
 "nbformat": 4,
 "nbformat_minor": 2
}
