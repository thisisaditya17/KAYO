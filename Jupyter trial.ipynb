{
 "cells": [
  {
   "cell_type": "code",
   "execution_count": 5,
   "metadata": {},
   "outputs": [
    {
     "name": "stderr",
     "output_type": "stream",
     "text": [
      "Ignoring wrong pointing object 6 0 (offset 0)\n",
      "Ignoring wrong pointing object 8 0 (offset 0)\n",
      "Ignoring wrong pointing object 10 0 (offset 0)\n",
      "Ignoring wrong pointing object 12 0 (offset 0)\n",
      "Ignoring wrong pointing object 18 0 (offset 0)\n",
      "Ignoring wrong pointing object 26 0 (offset 0)\n",
      "Ignoring wrong pointing object 31 0 (offset 0)\n",
      "Ignoring wrong pointing object 39 0 (offset 0)\n",
      "Ignoring wrong pointing object 41 0 (offset 0)\n",
      "Ignoring wrong pointing object 43 0 (offset 0)\n"
     ]
    }
   ],
   "source": [
    "from langchain.document_loaders import PyPDFLoader\n",
    "\n",
    "loader = PyPDFLoader(\"Research essay A0284714Y.pdf\")\n",
    "\n",
    "documents = loader.load()\n"
   ]
  },
  {
   "cell_type": "code",
   "execution_count": 6,
   "metadata": {},
   "outputs": [
    {
     "name": "stdout",
     "output_type": "stream",
     "text": [
      "33\n"
     ]
    }
   ],
   "source": [
    "from langchain.text_splitter import RecursiveCharacterTextSplitter\n",
    "\n",
    "textSplitting = RecursiveCharacterTextSplitter(\n",
    "    chunk_size = 600, chunk_overlap = 0, \n",
    "    length_function = len, is_separator_regex = False\n",
    ")\n",
    "\n",
    "chunks = textSplitting.split_documents(documents)\n",
    "\n",
    "print(len(chunks))"
   ]
  },
  {
   "cell_type": "code",
   "execution_count": 8,
   "metadata": {},
   "outputs": [
    {
     "name": "stderr",
     "output_type": "stream",
     "text": [
      "Batches: 100%|██████████| 2/2 [00:08<00:00,  4.12s/it]"
     ]
    },
    {
     "name": "stdout",
     "output_type": "stream",
     "text": [
      "[[ 0.00747336 -0.08902401  0.02077459 ... -0.01880907 -0.04058758\n",
      "  -0.00896567]\n",
      " [ 0.01578886 -0.03381769  0.01899362 ...  0.00736172  0.02683345\n",
      "   0.00205374]\n",
      " [ 0.00219827 -0.05417675  0.01220736 ... -0.02254741 -0.00642097\n",
      "  -0.01477654]\n",
      " ...\n",
      " [ 0.01143975 -0.08681266 -0.00466315 ... -0.01262976  0.0092701\n",
      "  -0.02335935]\n",
      " [ 0.00517226 -0.0447894  -0.00024153 ... -0.0359154  -0.01128982\n",
      "  -0.05130968]\n",
      " [-0.03160997 -0.07529054  0.00959112 ...  0.05392884 -0.01141342\n",
      "   0.00206799]]\n"
     ]
    },
    {
     "name": "stderr",
     "output_type": "stream",
     "text": [
      "\n"
     ]
    }
   ],
   "source": [
    "from sentence_transformers import SentenceTransformer\n",
    "import numpy\n",
    "\n",
    "embedding_model = SentenceTransformer('Snowflake/snowflake-arctic-embed-l', trust_remote_code=True)\n",
    "\n",
    "chunk_texts = [chunk.page_content for chunk in chunks]\n",
    "\n",
    "embeddings = embedding_model.encode(chunk_texts, show_progress_bar=True)\n",
    "\n",
    "print(embeddings)\n",
    "\n",
    "embeddings_np = numpy.array(embeddings).astype('float32') #fass takes in \n",
    "\n"
   ]
  },
  {
   "cell_type": "code",
   "execution_count": 9,
   "metadata": {},
   "outputs": [
    {
     "name": "stderr",
     "output_type": "stream",
     "text": [
      "Batches: 100%|██████████| 1/1 [00:01<00:00,  1.52s/it]"
     ]
    },
    {
     "name": "stdout",
     "output_type": "stream",
     "text": [
      "Distance:  [[0.48538676 0.49017376 0.49785894 0.5116794  0.52909684]]\n",
      "Indices:  [[24 27 25 13  3]]\n",
      "Similarity scores:  [0.6732253360360179, 0.6710626832954101, 0.6676196084003985, 0.661515922467878, 0.653980815770242]\n"
     ]
    },
    {
     "name": "stderr",
     "output_type": "stream",
     "text": [
      "\n"
     ]
    }
   ],
   "source": [
    "import faiss #facebook ai similarity search \n",
    "\n",
    "query = \"tourism in india\"\n",
    "\n",
    "query_embedding = embedding_model.encode(query, show_progress_bar=True)\n",
    "\n",
    "query_embedding_np = numpy.array([query_embedding]).astype('float32')\n",
    "\n",
    "nearest_neighbours = 5\n",
    "\n",
    "dimension = embeddings_np.shape[1]\n",
    "\n",
    "index = faiss.IndexFlatL2(dimension)\n",
    " \n",
    "index.add(embeddings_np)\n",
    "\n",
    "distance, indices = index.search(query_embedding_np, nearest_neighbours)\n",
    "\n",
    "#The lower the distance, the more similar the chunk is to your query.\n",
    "#hese are the positions of the most similar chunks within your original chunks list\n",
    "\n",
    "print(\"Distance: \", distance)\n",
    "\n",
    "\n",
    "print(\"Indices: \", indices)\n",
    "\n",
    "similarity_scores = [ 1 / (1 + dist) for dist in distance[0] ]\n",
    "\n",
    "print(\"Similarity scores: \", similarity_scores)\n"
   ]
  },
  {
   "cell_type": "code",
   "execution_count": null,
   "metadata": {},
   "outputs": [
    {
     "name": "stdout",
     "output_type": "stream",
     "text": [
      "Rank 1: showcasing the diverse offerings of India create positive content and change the perception of people.   Furthermore, there is immense potential for further growth and collaboration in tourism promotion between Singapore and India. This could involve joint marketing campaigns, cultural exchange programs, and facilitation of business partnerships in the tourism sector. Policymakers, tourism agencies, and stakeholders should prioritize initiatives that leverage the strengths of both countries and address existing challenges.  Conclusion: with similarity 0.6732257817797441\n",
      "Rank 2: India looks promising, with immense potential for joint marketing campaigns, cultural exchange programs, and facilitation of business partnerships in the sector. with similarity 0.6710628711857465\n",
      "Rank 3: Tourism has played a pivotal role in strengthening the multifaceted relationship between India and Singapore. The thriving tourism industry has fostered political, economic, and cultural ties between the two nations. Through increased people-to-people exchanges, tourism has built trust, understanding, and goodwill, positively influencing diplomatic relations. Economically, the tourism sector generates substantial revenue, employment, and business opportunities, reinforcing the interdependence between the two countries. Culturally, tourism has served as a medium for showcasing and preserving with similarity 0.6676199006346705\n",
      "Rank 4: A robust tourism industry fosters cultural diplomacy, facilitating the exchange of ideas and traditions between India and Singapore. Tourism serves as soft power, with tourists acting as unofficial ambassadors who shape public perceptions through word-of-mouth recommendations and shared travel experiences. Positive interactions contribute to greater understanding and goodwill between nations, strengthening political relationships at the grassroots level. Direct interactions and connections between the citizens of both countries can break down stereotypes, promote intercultural dialogue, and with similarity 0.6615162354663083\n",
      "Rank 5: splendour, has drawn a substantial number of Singaporean visitors each year.   Tourism promotes economic prosperity and people-to-people contacts, facilitating better understanding and cooperation between governments and businesses. It enables the exchange of cultural heritage, ideas, knowledge, practices, traditions, and values, fostering mutual respect and appreciation, promoting cross-cultural understanding further deepening bilateral ties.   This essay seeks to explore the contribution of Tourism in enhancing the ties between Singapore and India. Particularly, diving into the trends and with similarity 0.6539810197092225\n"
     ]
    }
   ],
   "source": [
    "#Retrieving the chunks using distance and indices\n",
    "\n",
    "for i in range(len(indices)) :\n",
    "    for rank in range(nearest_neighbours):\n",
    "        chunk_index = indices[i][rank]\n",
    "        similarity = similarity_scores[rank]\n",
    "        chunk_text = chunks[chunk_index]\n",
    "        print(f\"Rank {rank+1}: {chunk_text.page_content} with similarity {similarity}\")\n",
    "        "
   ]
  },
  {
   "cell_type": "code",
   "execution_count": null,
   "metadata": {},
   "outputs": [],
   "source": [
    "#LLM \n",
    "import os\n",
    "import google.generativeai as genai\n",
    "\n",
    "api_key = os.getenv(\"GENAI_API_KEY\")\n",
    "if not api_key:\n",
    "    raise ValueError(\"API key not found in environment variables.\")\n",
    "\n",
    "genai.configure(api_key=api_key)\n",
    "\n",
    "llm = genai.GenerativeModel('gemini-1.5-flash')\n"
   ]
  },
  {
   "cell_type": "code",
   "execution_count": null,
   "metadata": {},
   "outputs": [
    {
     "name": "stdout",
     "output_type": "stream",
     "text": [
      "response:\n",
      "GenerateContentResponse(\n",
      "    done=True,\n",
      "    iterator=None,\n",
      "    result=protos.GenerateContentResponse({\n",
      "      \"candidates\": [\n",
      "        {\n",
      "          \"content\": {\n",
      "            \"parts\": [\n",
      "              {\n",
      "                \"text\": \"The provided text focuses on the **positive impact of tourism on the relationship between Singapore and India**, rather than providing a detailed analysis of tourism in India itself.  However, we can glean some insights:\\n\\n* **India's tourism offerings are diverse and hold immense potential:** The text highlights that India's offerings are diverse and capable of changing perceptions. \\n* **India is a popular destination for Singaporean tourists:** The text mentions that India's \\\"splendour\\\" draws \\\"a substantial number of Singaporean visitors each year.\\\"\\n* **Collaboration in tourism promotion between Singapore and India:** There is significant potential for joint marketing campaigns, cultural exchange programs, and business partnerships to further boost tourism in both countries.\\n\\n**To provide a more comprehensive answer about tourism in India, we need more context. For example, we could discuss:**\\n\\n* **Specific types of tourism in India:** Adventure tourism, religious tourism, wildlife tourism, cultural tourism, etc.\\n* **Popular tourist destinations:** Taj Mahal, Golden Temple, Kerala backwaters, etc.\\n* **Challenges facing Indian tourism:** Infrastructure, safety, environmental concerns, etc.\\n* **The economic impact of tourism in India:** Employment generation, revenue generation, etc.\\n\\nLet me know if you'd like to explore any of these aspects further. \\n\"\n",
      "              }\n",
      "            ],\n",
      "            \"role\": \"model\"\n",
      "          },\n",
      "          \"finish_reason\": \"STOP\",\n",
      "          \"index\": 0,\n",
      "          \"safety_ratings\": [\n",
      "            {\n",
      "              \"category\": \"HARM_CATEGORY_SEXUALLY_EXPLICIT\",\n",
      "              \"probability\": \"NEGLIGIBLE\"\n",
      "            },\n",
      "            {\n",
      "              \"category\": \"HARM_CATEGORY_HATE_SPEECH\",\n",
      "              \"probability\": \"NEGLIGIBLE\"\n",
      "            },\n",
      "            {\n",
      "              \"category\": \"HARM_CATEGORY_HARASSMENT\",\n",
      "              \"probability\": \"NEGLIGIBLE\"\n",
      "            },\n",
      "            {\n",
      "              \"category\": \"HARM_CATEGORY_DANGEROUS_CONTENT\",\n",
      "              \"probability\": \"NEGLIGIBLE\"\n",
      "            }\n",
      "          ]\n",
      "        }\n",
      "      ],\n",
      "      \"usage_metadata\": {\n",
      "        \"prompt_token_count\": 423,\n",
      "        \"candidates_token_count\": 266,\n",
      "        \"total_token_count\": 689\n",
      "      }\n",
      "    }),\n",
      ")\n"
     ]
    }
   ],
   "source": [
    "prompt = \" Please answer the following question in context of the provided text:\\n\"\n",
    "prompt += \"Question: \" + query + \"\\n\"\n",
    "for i in range(len(indices)) :\n",
    "    for rank in range(nearest_neighbours):\n",
    "        chunk_index = indices[i][rank]\n",
    "        similarity = similarity_scores[rank]\n",
    "        chunk_text = chunks[chunk_index]\n",
    "        prompt += \"Context: \" + chunk_text.page_content + \"\\n\"\n",
    "        \n",
    "response = llm.generate_content(prompt)\n",
    "\n",
    "print(response)"
   ]
  }
 ],
 "metadata": {
  "kernelspec": {
   "display_name": ".venv",
   "language": "python",
   "name": "python3"
  },
  "language_info": {
   "codemirror_mode": {
    "name": "ipython",
    "version": 3
   },
   "file_extension": ".py",
   "mimetype": "text/x-python",
   "name": "python",
   "nbconvert_exporter": "python",
   "pygments_lexer": "ipython3",
   "version": "3.9.6"
  }
 },
 "nbformat": 4,
 "nbformat_minor": 2
}
