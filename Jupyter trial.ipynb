{
 "cells": [
  {
   "cell_type": "code",
   "execution_count": 86,
   "metadata": {},
   "outputs": [
    {
     "name": "stdout",
     "output_type": "stream",
     "text": [
      "#### Proposition-Based Chunking ####\n"
     ]
    }
   ],
   "source": [
    "\n",
    "print(\"#### Proposition-Based Chunking ####\")\n",
    "\n",
    "from langchain.output_parsers import PydanticOutputParser\n",
    "from langchain_google_genai import ChatGoogleGenerativeAI\n",
    "from langchain.prompts import ChatPromptTemplate\n",
    "from langchain.chains import LLMChain\n",
    "from typing import List\n",
    "from langchain_core.pydantic_v1 import BaseModel\n",
    "from langchain import hub\n",
    "import textract\n",
    "import time\n",
    "from dotenv import load_dotenv\n",
    "import os\n",
    "\n",
    "\n",
    "load_dotenv()\n",
    "\n",
    "api_key = os.getenv('GENAI_2ND_KEY')\n",
    "\n",
    "llm = ChatGoogleGenerativeAI(model='gemini-1.5-flash', google_api_key=api_key)\n",
    "\n"
   ]
  },
  {
   "cell_type": "code",
   "execution_count": 84,
   "metadata": {},
   "outputs": [
    {
     "name": "stdout",
     "output_type": "stream",
     "text": [
      "Review Essay (GES1006/GESS1004)\n",
      "(A0284714Y)\n",
      "\n",
      "\n",
      "\n",
      "Singapore is a place where people from different cultures live together. This essay talks about how Indian communities have changed over time, from when Singapore was ruled by other countries to now. By analyzing key works by Amrith, Bhattacharya, and Chacko, it aims to answer: how have Indian migrants shaped and been shaped by Singapore's socio-political landscape?\n",
      "\n",
      "The essay looks at Amrith and Bhattacharya's stories about history to understand why Indian people moved during colonial times and what they faced. Then it talks about Chacko's ideas about what happened after colonialism ended, especially focusing on how Indian professionals fit into society. By comparing these different views, the essay shows how Indian communities have stayed strong and made their own choices over time. It also talks about how the effects of colonialism are still felt today, even as the world changes with globalization and cities growing.\n",
      "\n",
      "Jayati Bhattacharya's research explores the history of Indian business communities during colonial times. Bhattacharya (2019) states “In addition, Indian labourers were employed in the plantations and estates, the public works department, and in harbours and docks” highlighting the significant presence and contribution of Indian laborers, merchants, and traders in various sectors of the colonial economy in Singapore thus playing a pivotal role in shaping the economic landscape. She points out how British colonialism and Indian commerce were closely linked, showing how Indian immigrants managed to build successful business networks despite the challenges of colonial rule. These networks helped trade and ideas flow between the Indian subcontinent and Southeast Asia.\n",
      "\n",
      "Dr. S. S. Amrith's study of Tamil migration to Singapore in the early to mid-20th century adds to Bhattacharya's work. He explores why Tamils moved, pointing to reasons like job prospects and connections from colonial times. \"There were jobs aplenty in the Singapore harbour... An atmosphere of militant unionism had an effect on wages, too\" (Amrith, 2010). He underscores the resilience and adaptability of Tamil communities in negotiating Singapore’s cosmopolitan environment, contributing to the hybrid cultural identity of Singapore by stating “Tamil journeys to Singapore in the 1950s were both a journey to an increasingly enclosed, familiar community and a journey into the unknown, the hybrid, the impure 'mobile city' that was Singapore\" (Amrith, 2010). Chacko's analysis of integration policies adds another layer to our understanding of colonial dynamics. While her focus is mainly on contemporary migration, her observations about the challenges faced by Indian professionals suggest connections to the past. Together, these insights suggest that during colonial times in Singapore, Indian laborers, merchants, and traders played a significant role in shaping the economy by creating successful business networks despite colonial restrictions.\n",
      "\n",
      "\n",
      "\n",
      "Moving from colonial to post-colonial times, Singapore underwent significant changes in its society and politics, including new migration patterns, integration policies, and identity formation. Amrith explains how after World War II, there was a resurgence in migration between India and Singapore. “Migration between India and Singapore had picked up by 1946... it nevertheless remained circular in nature, and it was impelled, more than ever, by a set of familial networks, familiar associations” (Amrith 2010). The arrival of migrants, occurring alongside geopolitical changes, played a crucial role in forming Singapore's unique cultural identity, influencing its cityscape and social fabric. Bhattacharya's study of Indian business communities in post-colonial Singapore underscores how colonialism's lasting effects continue to impact migration trends and economic systems. Bhattacharya (2019) highlights “The marginalised presence of the Indian firms and merchant communities in Singapore and Southeast Asia continued in the post-colonial era.” Chacko (2017) states, “High-skilled Indian migrants who lack an appreciation and understanding of Singaporean customs are viewed with misgivings by Singaporean natives. These Indian talents are perceived as aloof, conceited, ostentatious, and unwilling to adhere to Singaporean norms of behavior.” She highlights the difficulties Indian professionals encounter in integrating into society, dealing with stereotypes, cultural differences, and job competition. While Singapore's policies to attract skilled migrants have drawn Indian immigrants, they also reveal tensions between economic goals and social harmony in the post-colonial era. There's been a notable increase in migration from India during this time, affecting Singapore's society and cities. However, the lasting effects of colonialism are seen in the marginalized position of Indian business communities, indicating ongoing economic structures shaped by colonial past. \n",
      "\n",
      "Over time, Indian communities in Singapore have experienced considerable changes spanning colonial, post-colonial, and modern eras. From forming business networks during colonial rule to the integration of highly skilled professionals today, Indian migrants have shown resilience and flexibility in adapting to evolving social and political conditions. \n",
      "\n",
      "In modern Singapore, Indian communities have continued to evolve due to globalization, technological progress, and shifts in migration trends, contributing to the diverse cultural landscape of the country. Singapore has also emerged as a significant backdrop in Tamil cinema and television serials, further enriching its cultural tapestry. Amrith (2010) states “In Tamil cinema since the 1980s, and more recently in the TV serials that compel the Tamil middle-class at home and abroad, Singapore looms large”. Singapore is highly sought after by elite professionals in fields such as software and financial services, as well as affluent Indian tourists, who view it as an attractive destination. While historical accounts often emphasized the labor-related aspects of connections between Singapore and India, recent developments indicate a transition towards entrepreneurial initiatives and increased economic collaboration. Bhattacharya (2019) cites that many successful entrepreneurs, such as Gopinath Pillai, Shabbirbhai Hasanbhai, and Satpal Khattar, trace their ancestry to colonial-era migrants. However, the significance of working-class Tamil migrants, including construction laborers who make up a significant portion of the workforce, remains unchanged. While Singapore continues to draw high-skilled Indian migrants through its immigration policies, it faces the ongoing challenge of maintaining a balance between promoting economic development and safeguarding social harmony. Chacko (2017) states “Singapore’s policies seek to facilitate integration through interventions particularly in HDB complexes. Integration ambassadors act as points of contact for information on the country, neighborhood, and HDB complex, but also as neighbors who welcome migrants to the community”.\n",
      "\n",
      "The shift from colonialism to post-colonialism has brought about both continuity and change in the experiences of Indian communities in Singapore. While legacies of colonial rule still influence migration patterns and socio-economic gaps, modern integration policies strive for inclusivity and diversity. The nature of Indian migration has transformed from indentured labor and trade in colonial eras to today's influx of skilled professionals. Likewise, the socio-cultural dynamics and integration of Indian migrants have shifted due to globalization, urbanization, and multiculturalism.\n",
      "\n",
      "In conclusion, the collective insights provided by Amrith, Bhattacharya, and Chacko offer a thorough comprehension of the dynamics surrounding Indian communities in Singapore over various periods. Through historical accounts, empirical studies, and policy evaluations, these scholars shed light on the intricate processes of migration, integration, and identity development within a multicultural context. As Singapore progresses, the experiences of Indian communities stand as a testament to the resilience and flexibility of diasporic groups in navigating diverse socio-cultural environments.\n",
      "\n",
      "The exploration of the historical narratives surrounding Indian communities in Singapore, spanning colonial, post-colonial, and contemporary eras, unveils a vibrant tapestry characterized by resilience, adaptation, and transformation. Upon reflecting on the insights gleaned from the works of Amrith, Bhattacharya, and Chacko, it becomes clear that the experiences of Indian migrants have been profoundly influenced by and have, in turn, shaped Singapore's socio-political landscape. Throughout colonial times, Indian migrants, spanning from laborers to entrepreneurs, played a pivotal role in Singapore's economic growth, establishing vibrant business networks within the confines of colonial constraints. The post-colonial era witnessed a resurgence in migration, driven by familial bonds and economic prospects, while also underscoring the lasting impacts of colonialism on migration trends and economic frameworks. In contemporary society, Indian professionals contribute significantly to Singapore's knowledge-based economy, navigating challenges posed by multiculturalism and globalization.\n",
      "\n",
      "For me, learning about the complexities of Indian immigration to Singapore has been fascinating. It draws attention to the complexity of diasporic lives, highlighting everything from early migrants' hardships to modern professionals' goals. Having a strong interest in such elaborate cases, this journey of colonialism to contemporary Singapore has increased my respect for the diverse narratives that shape our globalized world.\t\n",
      "Looking ahead, the landscape of Indian communities in Singapore will continue to evolve, influenced by global trends, policy dynamics, and socio-cultural shifts. The resilient and adaptable nature of Indian migrants gives rise to hope even though there are still obstacles to overcome, such as preconceptions and socio-economic gaps. In essence, the dynamics within Singapore's Indian communities shows us a smaller version of what happens with migration, fitting in, and how people see themselves in our world that's more and more connected.. At last, the dynamics of Indian communities in Singapore across colonial, post-colonial, and contemporary periods highlight the resilience, adaptability, and contributions of migrants in shaping the nation's socio-economic landscape. By acknowledging the historical legacies, navigating present-day challenges, and embracing future opportunities, Singapore can continue to thrive as a multicultural society that celebrates the diversity of its people.\n",
      "<class 'str'>\n"
     ]
    }
   ],
   "source": [
    "text = textract.process(\"Review Essay.docx\")\n",
    "text = text.decode('utf-8')\n",
    "print(text)\n",
    "print(type(text))"
   ]
  },
  {
   "cell_type": "code",
   "execution_count": 87,
   "metadata": {},
   "outputs": [
    {
     "name": "stdout",
     "output_type": "stream",
     "text": [
      "Done with 0\n",
      "Error in extraction: Invalid json output: Please provide the text you would like me to analyze. I need the text to extract key propositions from.\n",
      "Done with 1\n",
      "Done with 2\n",
      "Done with 3\n",
      "Done with 4\n",
      "Done with 5\n",
      "Error in extraction: Invalid json output: Please provide the text you want me to analyze. I need the text to extract key propositions from.\n",
      "Done with 6\n",
      "Done with 7\n",
      "Done with 8\n",
      "Done with 9\n",
      "Done with 10\n",
      "Done with 11\n",
      "Done with 12\n",
      "Done with 13\n",
      "You have 75 propositions\n"
     ]
    }
   ],
   "source": [
    "obj = hub.pull(\"wfh/proposal-indexing\")\n",
    "\n",
    "\n",
    "class Sentences(BaseModel):\n",
    "    sentences: List[str]\n",
    "\n",
    "parser = PydanticOutputParser(pydantic_object=Sentences)\n",
    "\n",
    "prompt = ChatPromptTemplate.from_messages([\n",
    "    (\"system\", \"You are an AI assistant that extracts key propositions from text.\"),\n",
    "    (\"human\", \"Extract key propositions from the following text:\\n\\n{text}\"),\n",
    "    (\"human\", \"Format your response as a JSON object with a 'sentences' key containing a list of proposition strings.\")\n",
    "])\n",
    "\n",
    "chain = LLMChain(llm=llm, prompt=prompt, output_parser=parser)\n",
    "\n",
    "def get_propositions(text):\n",
    "    try:\n",
    "        result = chain.run(text=text)\n",
    "        return result.sentences\n",
    "    except Exception as e:\n",
    "        print(f\"Error in extraction: {e}\")\n",
    "        return []\n",
    "\n",
    "paragraphs = text.split(\"\\n\\n\")\n",
    "text_propositions = []\n",
    "\n",
    "for i, para in enumerate(paragraphs):\n",
    "    propositions = get_propositions(para)\n",
    "    text_propositions.extend(propositions)\n",
    "    print(f\"Done with {i}\")\n",
    "    time.sleep(8)   \n",
    "\n",
    "print(f\"You have {len(text_propositions)} propositions\")\n",
    "#print(text_propositions)\n",
    "#print(len(text_propositions))\n",
    "\n"
   ]
  },
  {
   "cell_type": "code",
   "execution_count": 88,
   "metadata": {},
   "outputs": [
    {
     "name": "stderr",
     "output_type": "stream",
     "text": [
      "/Users/crazygynkz/Desktop/KAYO/.venv/lib/python3.9/site-packages/huggingface_hub/file_download.py:1132: FutureWarning: `resume_download` is deprecated and will be removed in version 1.0.0. Downloads always resume when possible. If you want to force a new download, use `force_download=True`.\n",
      "  warnings.warn(\n",
      "Batches: 100%|██████████| 3/3 [00:08<00:00,  2.80s/it]\n"
     ]
    }
   ],
   "source": [
    "from sentence_transformers import SentenceTransformer\n",
    "import numpy\n",
    "\n",
    "\n",
    "embedding_model = SentenceTransformer('Snowflake/snowflake-arctic-embed-l')\n",
    "\n",
    "\n",
    "embeddings = embedding_model.encode(text_propositions, show_progress_bar=True)\n",
    "\n",
    "embeddings_np = numpy.array(embeddings).astype('float32')"
   ]
  },
  {
   "cell_type": "code",
   "execution_count": 89,
   "metadata": {},
   "outputs": [],
   "source": [
    "import faiss #facebook ai similarity search \n",
    "\n",
    "query = \"Relations between India and Singapore\"\n",
    "\n",
    "\n",
    "def retrieve(query, nearest_neighbours=5):\n",
    "\n",
    "    dimension = embeddings_np.shape[1]\n",
    "    index = faiss.IndexFlatL2(dimension)\n",
    "    index.add(embeddings_np)\n",
    "\n",
    "    query_embedding = embedding_model.encode(query, show_progress_bar=True)\n",
    "    query_embedding_np = numpy.array([query_embedding]).astype('float32')\n",
    "    distance, indices = index.search(query_embedding_np, nearest_neighbours)\n",
    "\n",
    "    contexts = []\n",
    "    for i in range(len(indices[0])):\n",
    "        chunk_index = indices[0][i]\n",
    "        similarity = 1 / (1 + distance[0][i])\n",
    "        chunk_text = text_propositions[chunk_index]\n",
    "        contexts.append(f\"Rank {i+1}: {chunk_text} | Similarity: {similarity:.4f}\")\n",
    "\n",
    "    return \"\\n\\n\".join(contexts)\n",
    "\n",
    "\n",
    "\n"
   ]
  },
  {
   "cell_type": "code",
   "execution_count": 90,
   "metadata": {},
   "outputs": [
    {
     "name": "stderr",
     "output_type": "stream",
     "text": [
      "Batches: 100%|██████████| 1/1 [00:01<00:00,  1.04s/it]\n"
     ]
    }
   ],
   "source": [
    "retrieved_context = retrieve(query)"
   ]
  },
  {
   "cell_type": "code",
   "execution_count": 91,
   "metadata": {},
   "outputs": [
    {
     "name": "stdout",
     "output_type": "stream",
     "text": [
      "Human: \n",
      "Answer the following question based on the provided context:\n",
      "\n",
      "Question: Relations between India and Singapore\n",
      "\n",
      "Context: Rank 1: Indian communities in Singapore have undergone significant transformations throughout history. | Similarity: 0.7563\n",
      "\n",
      "Rank 2: Indian immigration to Singapore is complex and fascinating. | Similarity: 0.7560\n",
      "\n",
      "Rank 3: Connections between Singapore and India have shifted from labor-related aspects to entrepreneurial initiatives and economic collaboration. | Similarity: 0.7548\n",
      "\n",
      "Rank 4: Indian communities in Singapore will continue to evolve. | Similarity: 0.7467\n",
      "\n",
      "Rank 5: Indian communities contribute to Singapore's diverse cultural landscape. | Similarity: 0.7393\n",
      "\n",
      "Provide relevant answers to the question based on the context.\n",
      "Don’t justify your answers.\n",
      "Don’t give information not mentioned in the CONTEXT INFORMATION.\n",
      "Do not say \"according to the context\" or \"mentioned in the context\" or similar.\n",
      "\n"
     ]
    }
   ],
   "source": [
    "prompt_template = ChatPromptTemplate.from_template(\"\"\"\n",
    "Answer the following question based on the provided context:\n",
    "\n",
    "Question: {question}\n",
    "\n",
    "Context: {context}\n",
    "\n",
    "Provide relevant answers to the question based on the context.\n",
    "Don’t justify your answers.\n",
    "Don’t give information not mentioned in the CONTEXT INFORMATION.\n",
    "Do not say \"according to the context\" or \"mentioned in the context\" or similar.\n",
    "\"\"\")\n",
    "\n",
    "prompt = prompt_template.format(context=retrieved_context, question=query)\n",
    "print(prompt)\n",
    "\n"
   ]
  },
  {
   "cell_type": "code",
   "execution_count": 99,
   "metadata": {},
   "outputs": [
    {
     "name": "stdout",
     "output_type": "stream",
     "text": [
      "Connections between Singapore and India have shifted from labor-related aspects to entrepreneurial initiatives and economic collaboration. \n",
      "Indian immigration to Singapore is complex and fascinating. \n",
      "\n"
     ]
    }
   ],
   "source": [
    "\n",
    "\n",
    "import os\n",
    "import google.generativeai as genai\n",
    "\n",
    "\n",
    "api_key = os.getenv(\"GENAI_API_KEY\")\n",
    "if not api_key:\n",
    "    raise ValueError(\"API key not found in environment variables.\")\n",
    "\n",
    "genai.configure(api_key=api_key)\n",
    "\n",
    "llm = genai.GenerativeModel('gemini-1.5-pro')\n",
    "\n",
    "response = llm.generate_content(prompt)\n",
    "\n",
    "print(response.text)\n"
   ]
  },
  {
   "cell_type": "code",
   "execution_count": 102,
   "metadata": {},
   "outputs": [
    {
     "name": "stdout",
     "output_type": "stream",
     "text": [
      "Connections between Singapore and India extend beyond just economic collaboration. Indian communities have been an integral part of Singapore's history, their immigration a complex and fascinating story of transformation. While initially defined by labor-related contributions,  Indian communities in Singapore have evolved to spearhead entrepreneurial initiatives, reflecting a shift in the two nations' relationship. Despite these changes, the historical and cultural ties between India and Singapore remain deeply intertwined, with Indian communities continuing to shape Singapore's diverse cultural landscape. \n",
      "\n"
     ]
    }
   ],
   "source": [
    "refined_prompt_template = ChatPromptTemplate.from_template(\"\"\"The original query is as follows: {query}\n",
    "We have provided an existing answer: {existing_answer}\n",
    "We have the opportunity to refine the existing answer (only if needed) with some more context below.\n",
    "------------\n",
    "{context}\n",
    "------------\n",
    "Given the new context, refine the original answer to better answer the query. If the context isn't useful, return the original answer.\n",
    "Don't mention Refined Answer\n",
    "\"\"\")\n",
    "\n",
    "refined_prompt = refined_prompt_template.format(query=query, existing_answer=response.text, context=retrieved_context)\n",
    "\n",
    "response = llm.generate_content(refined_prompt)\n",
    "print(response.text)\n"
   ]
  }
 ],
 "metadata": {
  "kernelspec": {
   "display_name": ".venv",
   "language": "python",
   "name": "python3"
  },
  "language_info": {
   "codemirror_mode": {
    "name": "ipython",
    "version": 3
   },
   "file_extension": ".py",
   "mimetype": "text/x-python",
   "name": "python",
   "nbconvert_exporter": "python",
   "pygments_lexer": "ipython3",
   "version": "3.9.6"
  }
 },
 "nbformat": 4,
 "nbformat_minor": 2
}
