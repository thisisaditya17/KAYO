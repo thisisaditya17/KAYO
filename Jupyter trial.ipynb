{
 "cells": [
  {
   "cell_type": "code",
   "execution_count": 1,
   "metadata": {},
   "outputs": [
    {
     "name": "stderr",
     "output_type": "stream",
     "text": [
      "Ignoring wrong pointing object 6 0 (offset 0)\n",
      "Ignoring wrong pointing object 8 0 (offset 0)\n",
      "Ignoring wrong pointing object 10 0 (offset 0)\n",
      "Ignoring wrong pointing object 12 0 (offset 0)\n",
      "Ignoring wrong pointing object 18 0 (offset 0)\n",
      "Ignoring wrong pointing object 26 0 (offset 0)\n",
      "Ignoring wrong pointing object 31 0 (offset 0)\n",
      "Ignoring wrong pointing object 39 0 (offset 0)\n",
      "Ignoring wrong pointing object 41 0 (offset 0)\n",
      "Ignoring wrong pointing object 43 0 (offset 0)\n"
     ]
    }
   ],
   "source": [
    "from langchain.document_loaders import PyPDFLoader\n",
    "\n",
    "loader = PyPDFLoader(\"Research essay A0284714Y.pdf\")\n",
    "\n",
    "documents = loader.load()\n"
   ]
  },
  {
   "cell_type": "code",
   "execution_count": 2,
   "metadata": {},
   "outputs": [
    {
     "name": "stdout",
     "output_type": "stream",
     "text": [
      "25\n"
     ]
    }
   ],
   "source": [
    "from langchain.text_splitter import RecursiveCharacterTextSplitter\n",
    "\n",
    "textSplitting = RecursiveCharacterTextSplitter(\n",
    "    chunk_size = 800, chunk_overlap = 0, \n",
    "    length_function = len, is_separator_regex = False\n",
    ")\n",
    "\n",
    "chunks = textSplitting.split_documents(documents)\n",
    "\n",
    "print(len(chunks))"
   ]
  },
  {
   "cell_type": "code",
   "execution_count": 3,
   "metadata": {},
   "outputs": [
    {
     "name": "stderr",
     "output_type": "stream",
     "text": [
      "c:\\UnityProjects\\OrbitalKayo\\KAYO\\.venv\\Lib\\site-packages\\sentence_transformers\\cross_encoder\\CrossEncoder.py:11: TqdmWarning: IProgress not found. Please update jupyter and ipywidgets. See https://ipywidgets.readthedocs.io/en/stable/user_install.html\n",
      "  from tqdm.autonotebook import tqdm, trange\n",
      "c:\\UnityProjects\\OrbitalKayo\\KAYO\\.venv\\Lib\\site-packages\\huggingface_hub\\file_download.py:1132: FutureWarning: `resume_download` is deprecated and will be removed in version 1.0.0. Downloads always resume when possible. If you want to force a new download, use `force_download=True`.\n",
      "  warnings.warn(\n",
      "Batches: 100%|██████████| 1/1 [00:02<00:00,  2.68s/it]\n"
     ]
    }
   ],
   "source": [
    "from sentence_transformers import SentenceTransformer\n",
    "import numpy\n",
    "\n",
    "\n",
    "embedding_model = SentenceTransformer('sentence-transformers/all-MiniLM-L6-v2')\n",
    "\n",
    "chunk_texts = [chunk.page_content for chunk in chunks]\n",
    "\n",
    "embeddings = embedding_model.encode(chunk_texts, show_progress_bar=True)\n",
    "\n",
    "embeddings_np = numpy.array(embeddings).astype('float32') #fass takes in \n",
    "\n"
   ]
  },
  {
   "cell_type": "code",
   "execution_count": 4,
   "metadata": {},
   "outputs": [
    {
     "name": "stderr",
     "output_type": "stream",
     "text": [
      "Batches: 100%|██████████| 1/1 [00:00<00:00, 62.04it/s]"
     ]
    },
    {
     "name": "stdout",
     "output_type": "stream",
     "text": [
      "Distance:  [[0.647101   0.6590144  0.6618579  0.67796177 0.718436  ]]\n",
      "Indices:  [[ 3 13 20  2  4]]\n",
      "Similarity scores:  [0.6071273158576378, 0.6027675213050624, 0.6017361642006633, 0.5959611356073153, 0.5819244932081126]\n"
     ]
    },
    {
     "name": "stderr",
     "output_type": "stream",
     "text": [
      "\n"
     ]
    }
   ],
   "source": [
    "import faiss #facebook ai similarity search \n",
    "\n",
    "query = \"tourism in india\"\n",
    "\n",
    "query_embedding = embedding_model.encode(query, show_progress_bar=True)\n",
    "\n",
    "query_embedding_np = numpy.array([query_embedding]).astype('float32')\n",
    "\n",
    "nearest_neighbours = 5\n",
    "\n",
    "dimension = embeddings_np.shape[1]\n",
    "\n",
    "index = faiss.IndexFlatL2(dimension)\n",
    " \n",
    "index.add(embeddings_np)\n",
    "\n",
    "distance, indices = index.search(query_embedding_np, nearest_neighbours)\n",
    "\n",
    "#The lower the distance, the more similar the chunk is to your query.\n",
    "#hese are the positions of the most similar chunks within your original chunks list\n",
    "\n",
    "print(\"Distance: \", distance)\n",
    "\n",
    "\n",
    "print(\"Indices: \", indices)\n",
    "\n",
    "similarity_scores = [ 1 / (1 + dist) for dist in distance[0] ]\n",
    "\n",
    "print(\"Similarity scores: \", similarity_scores)\n"
   ]
  },
  {
   "cell_type": "code",
   "execution_count": 5,
   "metadata": {},
   "outputs": [
    {
     "name": "stdout",
     "output_type": "stream",
     "text": [
      "Rank 1: understanding further deepening bilateral ties.   This essay seeks to explore the contribution of Tourism in enhancing the ties between Singapore and India. Particularly, diving into the trends and strategies employed by both countries regarding tourism, along with their effects on various levels and further analysis of the challenges and the solutions beneficial for both nations.      Overview of Tourism Trends and Strategies   In the early years after Singapore's independence in the 1960s, the two nations began collaborating to promote tourism and cultural exchanges. Singapore leveraged its position as a safe, efficient, and business-friendly destination and India's \"Incredible India\" campaign launched in 2002 helped raise awareness of India's diverse tourism offerings. In recent years, with similarity 0.6071273158576378\n",
      "Rank 2: campaigns aimed at increasing inbound travel to Singapore. With two offices in Mumbai and Delhi, STB promotes Singapore attractions as a holiday destination aggressively in India (The Economic Times, 2024)This not only creates economic value but also fosters knowledge about the place, further strengthening economic ties.   Furthermore, the influx of tourists from both countries generates foreign exchange earnings and supports employment in various sectors, including transportation, accommodation, food and beverage, and retail. This economic impact can foster greater interdependence and incentivize both countries to strengthen their economic cooperation.   Strengthening Cultural Ties through Tourism:   Tourism serves as a powerful medium for showcasing and preserving the rich cultural with similarity 0.6027675213050624\n",
      "Rank 3: Tourism has played a pivotal role in strengthening the multifaceted relationship between India and Singapore. The thriving tourism industry has fostered political, economic, and cultural ties between the two nations. Through increased people-to-people exchanges, tourism has built trust, understanding, and goodwill, positively influencing diplomatic relations. Economically, the tourism sector generates substantial revenue, employment, and business opportunities, reinforcing the interdependence between the two countries. Culturally, tourism has served as a medium for showcasing and preserving the rich heritage and diversity of India and Singapore, deepening mutual appreciation and respect.   While challenges such as cost of living, infrastructure gaps, and negative perceptions exist, the with similarity 0.6017361642006633\n",
      "Rank 4: the India-Singapore relationship has been the tourism sector, which has acted as a political, economic and cultural bridge between the two nations and it cannot be overstated. Singapore, renowned for its modern infrastructure, diverse attractions, and cultural affinities, has long enticed Indian tourists. Conversely, India, with its rich tapestry of heritage, vibrant culture, and natural splendour, has drawn a substantial number of Singaporean visitors each year.   Tourism promotes economic prosperity and people-to-people contacts, facilitating better understanding and cooperation between governments and businesses. It enables the exchange of cultural heritage, ideas, knowledge, practices, traditions, and values, fostering mutual respect and appreciation, promoting cross-cultural with similarity 0.5959611356073153\n",
      "Rank 5: both countries have experienced a surge in visitor arrivals, underscoring the importance of tourism as a key driver of bilateral cooperation and economic growth.       In 2023, Singapore saw a substantial 115% increase in overall visitor numbers, reaching 13.6 million from 6.3 million in 2022 (TravelBizMonitor, 2024). Singapore received 1.1 million Indian tourists in 2023, with India becoming its 5th tourism-generating market and expecting over 1.5 million Indian tourists in 2024. India's inbound tourism sector has witnessed remarkable growth, with foreign tourist arrivals (FTAs) surging by 64% in 2023 compared to with similarity 0.5819244932081126\n"
     ]
    }
   ],
   "source": [
    "#Retrieving the chunks using distance and indices\n",
    "\n",
    "for i in range(len(indices)) :\n",
    "    for rank in range(nearest_neighbours):\n",
    "        chunk_index = indices[i][rank]\n",
    "        similarity = similarity_scores[rank]\n",
    "        chunk_text = chunks[chunk_index]\n",
    "        print(f\"Rank {rank+1}: {chunk_text.page_content} with similarity {similarity}\")\n",
    "        "
   ]
  },
  {
   "cell_type": "code",
   "execution_count": 6,
   "metadata": {},
   "outputs": [
    {
     "ename": "ValueError",
     "evalue": "API key not found in environment variables.",
     "output_type": "error",
     "traceback": [
      "\u001b[1;31m---------------------------------------------------------------------------\u001b[0m",
      "\u001b[1;31mValueError\u001b[0m                                Traceback (most recent call last)",
      "Cell \u001b[1;32mIn[6], line 7\u001b[0m\n\u001b[0;32m      5\u001b[0m api_key \u001b[38;5;241m=\u001b[39m os\u001b[38;5;241m.\u001b[39mgetenv(\u001b[38;5;124m\"\u001b[39m\u001b[38;5;124mGENAI_API_KEY\u001b[39m\u001b[38;5;124m\"\u001b[39m)\n\u001b[0;32m      6\u001b[0m \u001b[38;5;28;01mif\u001b[39;00m \u001b[38;5;129;01mnot\u001b[39;00m api_key:\n\u001b[1;32m----> 7\u001b[0m     \u001b[38;5;28;01mraise\u001b[39;00m \u001b[38;5;167;01mValueError\u001b[39;00m(\u001b[38;5;124m\"\u001b[39m\u001b[38;5;124mAPI key not found in environment variables.\u001b[39m\u001b[38;5;124m\"\u001b[39m)\n\u001b[0;32m      9\u001b[0m genai\u001b[38;5;241m.\u001b[39mconfigure(api_key\u001b[38;5;241m=\u001b[39mapi_key)\n\u001b[0;32m     11\u001b[0m llm \u001b[38;5;241m=\u001b[39m genai\u001b[38;5;241m.\u001b[39mGenerativeModel(\u001b[38;5;124m'\u001b[39m\u001b[38;5;124mgemini-1.5-flash\u001b[39m\u001b[38;5;124m'\u001b[39m)\n",
      "\u001b[1;31mValueError\u001b[0m: API key not found in environment variables."
     ]
    }
   ],
   "source": [
    "#LLM \n",
    "import os\n",
    "import google.generativeai as genai\n",
    "\n",
    "api_key = os.getenv(\"GENAI_API_KEY\")\n",
    "if not api_key:\n",
    "    raise ValueError(\"API key not found in environment variables.\")\n",
    "\n",
    "genai.configure(api_key=api_key)\n",
    "\n",
    "llm = genai.GenerativeModel('gemini-1.5-flash')\n",
    "\n",
    "response = llm.generate_content(\"What is life\")\n",
    "\n",
    "print(response.text)"
   ]
  },
  {
   "cell_type": "code",
   "execution_count": 20,
   "metadata": {},
   "outputs": [
    {
     "name": "stdout",
     "output_type": "stream",
     "text": [
      "None\n"
     ]
    }
   ],
   "source": [
    "import os\n",
    "api_key = os.getenv(\"GENAI_API_KEY\")\n",
    "print(api_key)"
   ]
  }
 ],
 "metadata": {
  "kernelspec": {
   "display_name": ".venv",
   "language": "python",
   "name": "python3"
  },
  "language_info": {
   "codemirror_mode": {
    "name": "ipython",
    "version": 3
   },
   "file_extension": ".py",
   "mimetype": "text/x-python",
   "name": "python",
   "nbconvert_exporter": "python",
   "pygments_lexer": "ipython3",
   "version": "3.11.9"
  }
 },
 "nbformat": 4,
 "nbformat_minor": 2
}
